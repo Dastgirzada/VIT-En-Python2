{
 "cells": [
  {
   "cell_type": "markdown",
   "metadata": {},
   "source": [
    "## Question 1: \n",
    "The user will be asked for their First Name, Last Name, Student Number, names of 4 courses, and the Midterm and Final grades for these courses. The year-end average will be calculated by adding 40% of the Midterm grade to 60% of the Final grade. If the average is below 50, \"FAILED\" will be displayed on the screen; if it is 50 or above, \"PASSED\" will be displayed. This printing process will be done for all 4 courses and the courses will be listed one below the other."
   ]
  },
  {
   "cell_type": "code",
   "execution_count": 6,
   "metadata": {},
   "outputs": [
    {
     "name": "stdout",
     "output_type": "stream",
     "text": [
      "\n",
      "Results:\n",
      "\n",
      "Course: nederlands\n",
      "Midterm Grade: 55.0\n",
      "Final Grade: 70.0\n",
      "Year-End Average: 64.0\n",
      "Result: PASSED\n",
      "\n",
      "Course: English\n",
      "Midterm Grade: 40.0\n",
      "Final Grade: 55.0\n",
      "Year-End Average: 49.0\n",
      "Result: FAILED\n",
      "\n",
      "Course: python\n",
      "Midterm Grade: 34.0\n",
      "Final Grade: 56.0\n",
      "Year-End Average: 47.2\n",
      "Result: FAILED\n",
      "\n",
      "Course: math\n",
      "Midterm Grade: 30.0\n",
      "Final Grade: 44.0\n",
      "Year-End Average: 38.4\n",
      "Result: FAILED\n"
     ]
    }
   ],
   "source": [
    "def calculate_average(midterm_grade, final_grade):\n",
    "    # Calculate the year-end average\n",
    "    average = 0.4 * midterm_grade + 0.6 * final_grade\n",
    "    return average\n",
    "\n",
    "def main():\n",
    "    # Get user input\n",
    "    first_name = input(\"Enter your First Name: \")\n",
    "    last_name = input(\"Enter your Last Name: \")\n",
    "    student_number = input(\"Enter your Student Number: \")\n",
    "\n",
    "    # Initialize variables to store course information\n",
    "    courses = []\n",
    "    midterm_grades = []\n",
    "    final_grades = []\n",
    "\n",
    "    # Get course names and grades\n",
    "    for i in range(4):\n",
    "        course_name = input(f\"Enter the name of Course {i + 1}: \")\n",
    "        midterm_grade = float(input(f\"Enter the Midterm grade for {course_name}: \"))\n",
    "        final_grade = float(input(f\"Enter the Final grade for {course_name}: \"))\n",
    "\n",
    "        # Store course information\n",
    "        courses.append(course_name)\n",
    "        midterm_grades.append(midterm_grade)\n",
    "        final_grades.append(final_grade)\n",
    "\n",
    "    # Display the results for each course\n",
    "    print(\"\\nResults:\")\n",
    "    for i in range(4):\n",
    "        course_name = courses[i]\n",
    "        midterm_grade = midterm_grades[i]\n",
    "        final_grade = final_grades[i]\n",
    "\n",
    "        # Calculate the year-end average\n",
    "        average = calculate_average(midterm_grade, final_grade)\n",
    "\n",
    "        # Display the results for each course\n",
    "        print(f\"\\nCourse: {course_name}\")\n",
    "        print(f\"Midterm Grade: {midterm_grade}\")\n",
    "        print(f\"Final Grade: {final_grade}\")\n",
    "        print(f\"Year-End Average: {average}\")\n",
    "\n",
    "        # Check if the student passed or failed\n",
    "        if average < 50:\n",
    "            print(\"Result: FAILED\")\n",
    "        else:\n",
    "            print(\"Result: PASSED\")\n",
    "\n",
    "if __name__ == \"__main__\":\n",
    "    main()\n"
   ]
  },
  {
   "cell_type": "markdown",
   "metadata": {},
   "source": [
    "## Question 2: \n",
    "Write a Python program that calculates the average of the numbers in the list below. Then, add a \"for\" loop that separates each number in the list into \"high\" if it is greater than the average, and \"low\" if it is lower than the average, and print the count of each group on the screen.\n",
    "\n",
    "numbers = [42, 29, 17, 15, 10, 9, 6, 4, 2, 1]"
   ]
  },
  {
   "cell_type": "code",
   "execution_count": 1,
   "metadata": {},
   "outputs": [
    {
     "name": "stdout",
     "output_type": "stream",
     "text": [
      "42 is high\n",
      "29 is high\n",
      "17 is high\n",
      "15 is high\n",
      "10 is low\n",
      "9 is low\n",
      "6 is low\n",
      "4 is low\n",
      "2 is low\n",
      "1 is low\n",
      "\n",
      "Count of high numbers: 4\n",
      "Count of low numbers: 6\n"
     ]
    }
   ],
   "source": [
    "numbers = [42, 29, 17, 15, 10, 9, 6, 4, 2, 1]\n",
    "\n",
    "# Calculate the average of the numbers\n",
    "average = sum(numbers) / len(numbers)\n",
    "\n",
    "# Initialize counters for high and low numbers\n",
    "high_count = 0\n",
    "low_count = 0\n",
    "\n",
    "# Categorize each number and count\n",
    "for num in numbers:\n",
    "    if num > average:\n",
    "        print(f\"{num} is high\")\n",
    "        high_count += 1\n",
    "    else:\n",
    "        print(f\"{num} is low\")\n",
    "        low_count += 1\n",
    "\n",
    "# Print the count of high and low numbers\n",
    "print(f\"\\nCount of high numbers: {high_count}\")\n",
    "print(f\"Count of low numbers: {low_count}\")"
   ]
  },
  {
   "cell_type": "markdown",
   "metadata": {},
   "source": [
    "## Question 3: \n",
    "Write a Python program that calculates the sum of odd numbers in a given range. The program will ask the user for two numbers and calculate the sum of odd numbers between these two numbers. The program will print an error message if the user makes an invalid entry. You must use a While loop in writing the program.\n",
    "\n",
    "Note: You must submit your homework via GitHub by the end of Thursday. You can ask your course instructor any questions related to the homework. Good luck..."
   ]
  },
  {
   "cell_type": "code",
   "execution_count": 2,
   "metadata": {},
   "outputs": [
    {
     "name": "stdout",
     "output_type": "stream",
     "text": [
      "Sum of odd numbers between 2 and 8: 15\n"
     ]
    }
   ],
   "source": [
    "# Initialize variables\n",
    "sum_of_odd = 0\n",
    "\n",
    "# Get valid input from the user\n",
    "while True:\n",
    "    try:\n",
    "        start_num = int(input(\"Enter the start number: \"))\n",
    "        end_num = int(input(\"Enter the end number: \"))\n",
    "        break  # Break the loop if valid input is received\n",
    "    except ValueError:\n",
    "        print(\"Invalid input. Please enter valid numbers.\")\n",
    "\n",
    "# Ensure start_num is less than end_num\n",
    "if start_num >= end_num:\n",
    "    print(\"Error: Start number should be less than end number.\")\n",
    "else:\n",
    "    # Calculate the sum of odd numbers in the given range\n",
    "    current_num = start_num\n",
    "    while current_num <= end_num:\n",
    "        if current_num % 2 != 0:\n",
    "            sum_of_odd += current_num\n",
    "        current_num += 1\n",
    "\n",
    "    # Print the result\n",
    "    print(f\"Sum of odd numbers between {start_num} and {end_num}: {sum_of_odd}\")"
   ]
  }
 ],
 "metadata": {
  "kernelspec": {
   "display_name": "Python 3",
   "language": "python",
   "name": "python3"
  },
  "language_info": {
   "codemirror_mode": {
    "name": "ipython",
    "version": 3
   },
   "file_extension": ".py",
   "mimetype": "text/x-python",
   "name": "python",
   "nbconvert_exporter": "python",
   "pygments_lexer": "ipython3",
   "version": "3.11.4"
  }
 },
 "nbformat": 4,
 "nbformat_minor": 2
}
