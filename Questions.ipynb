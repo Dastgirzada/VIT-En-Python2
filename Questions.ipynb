{
 "cells": [
  {
   "cell_type": "markdown",
   "metadata": {},
   "source": [
    "## Question 1: \n",
    "The user will be asked for their First Name, Last Name, Student Number, names of 4 courses, and the Midterm and Final grades for these courses. The year-end average will be calculated by adding 40% of the Midterm grade to 60% of the Final grade. If the average is below 50, \"FAILED\" will be displayed on the screen; if it is 50 or above, \"PASSED\" will be displayed. This printing process will be done for all 4 courses and the courses will be listed one below the other."
   ]
  },
  {
   "cell_type": "code",
   "execution_count": 1,
   "metadata": {},
   "outputs": [
    {
     "name": "stdout",
     "output_type": "stream",
     "text": [
      "upgrade\n"
     ]
    }
   ],
   "source": [
    "print(\"upgrade\")"
   ]
  },
  {
   "cell_type": "markdown",
   "metadata": {},
   "source": [
    "## Question 2: \n",
    "Write a Python program that calculates the average of the numbers in the list below. Then, add a \"for\" loop that separates each number in the list into \"high\" if it is greater than the average, and \"low\" if it is lower than the average, and print the count of each group on the screen.\n",
    "\n",
    "numbers = [42, 29, 17, 15, 10, 9, 6, 4, 2, 1]"
   ]
  },
  {
   "cell_type": "code",
   "execution_count": null,
   "metadata": {},
   "outputs": [],
   "source": []
  },
  {
   "cell_type": "markdown",
   "metadata": {},
   "source": [
    "## Question 3: \n",
    "Write a Python program that calculates the sum of odd numbers in a given range. The program will ask the user for two numbers and calculate the sum of odd numbers between these two numbers. The program will print an error message if the user makes an invalid entry. You must use a While loop in writing the program.\n",
    "\n",
    "Note: You must submit your homework via GitHub by the end of Thursday. You can ask your course instructor any questions related to the homework. Good luck..."
   ]
  },
  {
   "cell_type": "code",
   "execution_count": null,
   "metadata": {},
   "outputs": [],
   "source": []
  }
 ],
 "metadata": {
  "kernelspec": {
   "display_name": "Python 3",
   "language": "python",
   "name": "python3"
  },
  "language_info": {
   "codemirror_mode": {
    "name": "ipython",
    "version": 3
   },
   "file_extension": ".py",
   "mimetype": "text/x-python",
   "name": "python",
   "nbconvert_exporter": "python",
   "pygments_lexer": "ipython3",
   "version": "3.11.4"
  }
 },
 "nbformat": 4,
 "nbformat_minor": 2
}
